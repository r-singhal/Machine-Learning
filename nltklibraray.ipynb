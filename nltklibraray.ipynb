{
 "cells": [
  {
   "cell_type": "code",
   "execution_count": 1,
   "metadata": {},
   "outputs": [
    {
     "name": "stdout",
     "output_type": "stream",
     "text": [
      "[Synset('pain.n.01'), Synset('pain.n.02'), Synset('pain.n.03'), Synset('pain.n.04'), Synset('annoyance.n.04'), Synset('trouble.v.05'), Synset('pain.v.02')]\n",
      "a symptom of some physical hurt or disorder\n",
      "['the patient developed severe pain and distension']\n"
     ]
    }
   ],
   "source": [
    "from nltk.corpus import wordnet\n",
    "\n",
    "# setting setence\n",
    "\n",
    "out_come=wordnet.synsets(\"pain\")\n",
    "# printing all data\n",
    "print(out_come)\n",
    "\n",
    "# definition \n",
    "print(out_come[0].definition())\n",
    "\n",
    "# examples\n",
    "print(out_come[0].examples())"
   ]
  },
  {
   "cell_type": "code",
   "execution_count": null,
   "metadata": {},
   "outputs": [],
   "source": []
  }
 ],
 "metadata": {
  "kernelspec": {
   "display_name": "Python 3",
   "language": "python",
   "name": "python3"
  },
  "language_info": {
   "codemirror_mode": {
    "name": "ipython",
    "version": 3
   },
   "file_extension": ".py",
   "mimetype": "text/x-python",
   "name": "python",
   "nbconvert_exporter": "python",
   "pygments_lexer": "ipython3",
   "version": "3.5.2"
  }
 },
 "nbformat": 4,
 "nbformat_minor": 2
}

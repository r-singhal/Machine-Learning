{
 "cells": [
  {
   "cell_type": "code",
   "execution_count": 1,
   "metadata": {},
   "outputs": [
    {
     "name": "stdout",
     "output_type": "stream",
     "text": [
      "running....\n",
      "running....\n",
      "running....\n",
      "running....\n",
      "running....\n",
      "running....\n",
      "running....\n",
      "running....\n",
      "running....\n",
      "running....\n",
      "running....\n",
      "running....\n",
      "running....\n",
      "running....\n",
      "running....\n",
      "running....\n",
      "running....\n",
      "running....\n",
      "running....\n",
      "running....\n",
      "running....\n",
      "running....\n",
      "running....\n",
      "running....\n",
      "running....\n",
      "running....\n",
      "running....\n",
      "running....\n",
      "running....\n",
      "running....\n",
      "running....\n",
      "running....\n",
      "running....\n",
      "running....\n",
      "running....\n",
      "running....\n",
      "running....\n",
      "running....\n",
      "running....\n",
      "running....\n",
      "running....\n",
      "running....\n",
      "running....\n",
      "running....\n",
      "running....\n",
      "running....\n",
      "running....\n",
      "running....\n",
      "running....\n",
      "running....\n",
      "running....\n"
     ]
    }
   ],
   "source": [
    "import cv2\n",
    "\n",
    "cam=cv2.VideoCapture(0)\n",
    "\n",
    "while  cam.isOpened() :\n",
    "    \n",
    "    print('running....')\n",
    "    \n",
    "    status,frame=cam.read()\n",
    "    newimg=cv2.cvtColor(frame,cv2.COLOR_BGR2GRAY)\n",
    "    \n",
    "    cv2.imshow('camera 0',frame)\n",
    "    cv2.imshow('camera 1',newimg)\n",
    "    #cv2.waitKey(0)\n",
    "    if cv2.waitKey(1) & 0xFF==ord('q'):\n",
    "            break\n",
    "        \n",
    "cv2.destroyAllWindows() \n",
    "cam.release()"
   ]
  },
  {
   "cell_type": "code",
   "execution_count": null,
   "metadata": {},
   "outputs": [],
   "source": []
  },
  {
   "cell_type": "code",
   "execution_count": null,
   "metadata": {},
   "outputs": [],
   "source": []
  }
 ],
 "metadata": {
  "kernelspec": {
   "display_name": "Python 3",
   "language": "python",
   "name": "python3"
  },
  "language_info": {
   "codemirror_mode": {
    "name": "ipython",
    "version": 3
   },
   "file_extension": ".py",
   "mimetype": "text/x-python",
   "name": "python",
   "nbconvert_exporter": "python",
   "pygments_lexer": "ipython3",
   "version": "3.5.2"
  }
 },
 "nbformat": 4,
 "nbformat_minor": 2
}

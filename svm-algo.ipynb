{
 "cells": [
  {
   "cell_type": "code",
   "execution_count": 22,
   "metadata": {},
   "outputs": [
    {
     "name": "stdout",
     "output_type": "stream",
     "text": [
      "[4]\n"
     ]
    },
    {
     "data": {
      "image/png": "[encoded data removed]",
      "text/plain": [
       "<Figure size 432x288 with 1 Axes>"
      ]
     },
     "metadata": {},
     "output_type": "display_data"
    }
   ],
   "source": [
    "from sklearn.datasets import load_digits\n",
    "import matplotlib.pyplot as plt\n",
    "import matplotlib.image as imp\n",
    "import numpy as np\n",
    "\n",
    "digit=load_digits()\n",
    "\n",
    "train_data=np.delete(digit.data,-1,axis=0)\n",
    "train_target=np.delete(digit.target,-1)\n",
    "\n",
    "train_data.shape\n",
    "\n",
    "test_data=digit.data[-1]\n",
    "test_target=digit.target[-1]\n",
    "\n",
    "from sklearn.svm import SVC\n",
    "\n",
    "clf=SVC()\n",
    "\n",
    "trained=clf.fit(train_data,train_target)\n",
    "\n",
    "out=trained.predict(digit.data[-9].reshape(1,64))\n",
    "print(out)\n",
    "d=digit.data[-9]\n",
    "e=d.reshape(8,8)\n",
    "plt.imshow(e)\n",
    "plt.show()"
   ]
  },
  {
   "cell_type": "code",
   "execution_count": null,
   "metadata": {},
   "outputs": [],
   "source": []
  }
 ],
 "metadata": {
  "kernelspec": {
   "display_name": "Python 3",
   "language": "python",
   "name": "python3"
  },
  "language_info": {
   "codemirror_mode": {
    "name": "ipython",
    "version": 3
   },
   "file_extension": ".py",
   "mimetype": "text/x-python",
   "name": "python",
   "nbconvert_exporter": "python",
   "pygments_lexer": "ipython3",
   "version": "3.5.2"
  }
 },
 "nbformat": 4,
 "nbformat_minor": 2
}

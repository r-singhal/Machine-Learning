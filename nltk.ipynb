{
 "cells": [
  {
   "cell_type": "code",
   "execution_count": null,
   "metadata": {},
   "outputs": [],
   "source": [
    "import nltk\n",
    "from nltk.corpus import stopwords\n",
    "#stopwords.words()\n",
    "\n",
    "import urllib.request\n",
    "from bs4 import BeautifulSoup\n",
    "\n",
    "website=\"http://php.net\"\n",
    "web_data=urllib.request.urlopen(website)\n",
    "\n",
    "#print(web_data.read())\n",
    "\n",
    "clean_data=web_data.read()\n",
    "\n",
    "get_clean=BeautifulSoup(clean_data,'html5lib')\n",
    "\n",
    "final_data=get_clean.get_text()\n",
    "\n",
    "\n",
    "#print(final_data)\n",
    "good_data=final_data.strip()\n",
    "#print(good_data)\n",
    "########freq_data=nltk.FreqDist(good_data)\n",
    "########freq_data.plot(20)\n",
    "\n",
    "'''new_data=[]\n",
    "for i in good_data:\n",
    "        j=i.split()\n",
    "        new_data.append(j)\n",
    "        \n",
    "#print(new_data)'''\n",
    "\n",
    "\n",
    "#print(text)\n",
    "# tokenize string -- means seperate into words \n",
    "token=[i for i  in text.split()]\n",
    "#print(token)\n",
    "\n",
    "freq_data=nltk.FreqDist(good_data)\n",
    "freq_data.plot(20)"
   ]
  },
  {
   "cell_type": "code",
   "execution_count": null,
   "metadata": {},
   "outputs": [],
   "source": []
  }
 ],
 "metadata": {
  "kernelspec": {
   "display_name": "Python 3",
   "language": "python",
   "name": "python3"
  },
  "language_info": {
   "codemirror_mode": {
    "name": "ipython",
    "version": 3
   },
   "file_extension": ".py",
   "mimetype": "text/x-python",
   "name": "python",
   "nbconvert_exporter": "python",
   "pygments_lexer": "ipython3",
   "version": "3.5.2"
  }
 },
 "nbformat": 4,
 "nbformat_minor": 2
}

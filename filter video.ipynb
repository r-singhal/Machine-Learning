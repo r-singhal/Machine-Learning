{
 "cells": [
  {
   "cell_type": "code",
   "execution_count": null,
   "metadata": {},
   "outputs": [],
   "source": [
    "#!/usr/bin/python3\n",
    "\n",
    "import  cv2\n",
    "\n",
    "#  loading image\n",
    "#img=cv2.imread('redhat.png')\n",
    "\n",
    "#print(img.shape)\n",
    "#  only picking  red color range\n",
    "#  starting  camera  \n",
    "cap=cv2.VideoCapture(0)\n",
    "#  checking for  web  cam \n",
    "while cap.isOpened():\n",
    "\t# true ,false , image frame \n",
    "\tstatus,frame=cap.read()\n",
    "         #                           starting color, end color range\n",
    "\tonly_red=cv2.inRange(frame,(0,0,40),(20,20,255))\n",
    "\tonly_green=cv2.inRange(frame,(0,30,0),(20,255,20))\n",
    "\tcv2.imshow('window_red',only_red)\n",
    "\tcv2.imshow('window_green',only_green)\n",
    "\tif  cv2.waitKey(1) & 0xFF ==  ord('q') :\n",
    "\t\tbreak\n",
    "\n",
    "cv2.destroyAllWindows()\n",
    "cap.release()\n"
   ]
  },
  {
   "cell_type": "code",
   "execution_count": null,
   "metadata": {},
   "outputs": [],
   "source": []
  }
 ],
 "metadata": {
  "kernelspec": {
   "display_name": "Python 3",
   "language": "python",
   "name": "python3"
  },
  "language_info": {
   "codemirror_mode": {
    "name": "ipython",
    "version": 3
   },
   "file_extension": ".py",
   "mimetype": "text/x-python",
   "name": "python",
   "nbconvert_exporter": "python",
   "pygments_lexer": "ipython3",
   "version": "3.5.2"
  }
 },
 "nbformat": 4,
 "nbformat_minor": 2
}

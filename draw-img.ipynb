{
 "cells": [
  {
   "cell_type": "code",
   "execution_count": null,
   "metadata": {},
   "outputs": [],
   "source": [
    "#!/usr/bin/env python3\n",
    "\n",
    "import cv2\n",
    "import numpy as np\n",
    "\n",
    "#img=np.zeros([512,512,3])\n",
    "#print (img)\n",
    "\n",
    "img=cv2.imread('/home/rishabh/Downloads/ff.png',1)\n",
    "\n",
    "\n",
    "cv2.line(img,(305,0),(305,290),(55,60,177),5)\n",
    "\n",
    "cv2.rectangle(img,(250,290),(360,410),(125,68,15),4)\n",
    "\n",
    "cv2.circle(img,(304,350),60,(60,255,155),3)\n",
    "\n",
    "cv2.ellipse(img, (304, 340), (100, 60), 360,0,180, (55,15,225), 3)\n",
    "\n",
    "vrx = np.array([[305,250],[200,310],[230,430],[380,430],[400,310]], np.int32)\n",
    "vrx = vrx.reshape((-1,1,2))\n",
    "cv2.polylines(img, [vrx], True, (0,255,255),3)\n",
    "\n",
    "\n",
    "font=cv2.FONT_HERSHEY_SIMPLEX\n",
    "cv2.putText(img, 'Cuteness Overloaded', (55,130), font,1.5, (50, 25, 255), 2, cv2.LINE_AA)\n",
    "\n",
    "#display\n",
    "cv2.imwrite('/home/rishabh/Downloads/ff.png',img)\n",
    "\n",
    "cv2.imshow('imageviewer',img)\n",
    "cv2.waitKey(0)\n",
    "\n",
    "#to destroy one named window\n",
    "#cv2.destroyWindows('myownimage')\n",
    "cv2.destroyWindows('imageviewer')"
   ]
  },
  {
   "cell_type": "code",
   "execution_count": null,
   "metadata": {},
   "outputs": [],
   "source": []
  },
  {
   "cell_type": "code",
   "execution_count": null,
   "metadata": {},
   "outputs": [],
   "source": []
  },
  {
   "cell_type": "code",
   "execution_count": null,
   "metadata": {},
   "outputs": [],
   "source": []
  }
 ],
 "metadata": {
  "kernelspec": {
   "display_name": "Python 3",
   "language": "python",
   "name": "python3"
  },
  "language_info": {
   "codemirror_mode": {
    "name": "ipython",
    "version": 3
   },
   "file_extension": ".py",
   "mimetype": "text/x-python",
   "name": "python",
   "nbconvert_exporter": "python",
   "pygments_lexer": "ipython3",
   "version": "3.5.2"
  }
 },
 "nbformat": 4,
 "nbformat_minor": 2
}

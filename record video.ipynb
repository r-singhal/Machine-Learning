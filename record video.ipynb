{
 "cells": [
  {
   "cell_type": "code",
   "execution_count": null,
   "metadata": {},
   "outputs": [],
   "source": [
    "#!/usr/bin/python3\n",
    "import  cv2\n",
    "#  checking  height and width of current camera\n",
    "'''\n",
    "for i in dir(cv2):\n",
    "\tif  'FRAME' in i:\n",
    "\t\tprint(i)\n",
    "'''\n",
    "#  starting with camera\n",
    "cap=cv2.VideoCapture(0)\n",
    "\n",
    "#  printing height and width of camera\n",
    "#print(cap.get(cv2.CAP_PROP_FRAME_WIDTH))\n",
    "#print(cap.get(cv2.CAP_PROP_FRAME_HEIGHT))\n",
    "#  capturing  the frame width and height\n",
    "width=cap.get(cv2.CAP_PROP_FRAME_WIDTH)\n",
    "height=cap.get(cv2.CAP_PROP_FRAME_HEIGHT)\n",
    "\n",
    "#  deciding video format              XVID for .avi format video\n",
    "video_format=cv2.VideoWriter_fourcc(*'XVID')\n",
    "\n",
    "#  saving video data as per format \n",
    "#                filename , video format , FPS , video w , h \n",
    "video_output=cv2.VideoWriter('adhoc.avi',video_format,50.0,(int(width),int(height)))\n",
    "#  printing height and width of camera\n",
    "#print(cap.get(cv2.CAP_PROP_FRAME_WIDTH))\n",
    "#print(cap.get(cv2.CAP_PROP_FRAME_HEIGHT))\n",
    "\n",
    "while cap.isOpened():\n",
    "\tstatus,frame=cap.read()\n",
    "\tcv2.imshow('live_frame',frame)\n",
    "\tvideo_output.write(frame)\n",
    "\n",
    "\tif cv2.waitKey(1) &  0xFF  ==  ord('q'):\n",
    "\t\tbreak\n",
    "\n",
    "\n",
    "cv2.destroyAllWindows()\n",
    "cap.release()\n",
    "\n"
   ]
  },
  {
   "cell_type": "code",
   "execution_count": null,
   "metadata": {},
   "outputs": [],
   "source": []
  },
  {
   "cell_type": "code",
   "execution_count": null,
   "metadata": {},
   "outputs": [],
   "source": []
  }
 ],
 "metadata": {
  "kernelspec": {
   "display_name": "Python 3",
   "language": "python",
   "name": "python3"
  },
  "language_info": {
   "codemirror_mode": {
    "name": "ipython",
    "version": 3
   },
   "file_extension": ".py",
   "mimetype": "text/x-python",
   "name": "python",
   "nbconvert_exporter": "python",
   "pygments_lexer": "ipython3",
   "version": "3.5.2"
  }
 },
 "nbformat": 4,
 "nbformat_minor": 2
}

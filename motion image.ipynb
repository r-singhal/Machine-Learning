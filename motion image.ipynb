{
 "cells": [
  {
   "cell_type": "code",
   "execution_count": null,
   "metadata": {},
   "outputs": [],
   "source": [
    "import cv2\n",
    "\n",
    "def create_image_diff(x,y,z):\n",
    "    img1_df=cv2.absdiff(x,y)\n",
    "    img2_df=cv2.absdiff(y,z)\n",
    "    img3=cv2.bitwise_and(img1_df,img2_df)\n",
    "    return img3\n",
    "\n",
    "cap=cv2.VideoCapture(0)\n",
    "tp1=cap.read()[1]\n",
    "tp2=cap.read()[1]\n",
    "tp3=cap.read()[1]\n",
    "\n",
    "gray1=cv2.cvtColor(tp1,cv2.COLOR_BGR2GRAY)\n",
    "gray2=cv2.cvtColor(tp2,cv2.COLOR_BGR2GRAY)\n",
    "gray3=cv2.cvtColor(tp3,cv2.COLOR_BGR2GRAY)\n",
    "\n",
    "while True:\n",
    "    new_img=create_image_diff(gray1,gray2,gray3)\n",
    "    cv2.imshow('wind1',new_img)\n",
    "    \n",
    "    if cv2.waitKey(1) & 0xFF==ord('q'):\n",
    "        break\n",
    "        \n",
    "cv2.destroyAllWindows()\n",
    "cap.release()\n",
    "\n",
    "        "
   ]
  },
  {
   "cell_type": "code",
   "execution_count": null,
   "metadata": {},
   "outputs": [],
   "source": []
  },
  {
   "cell_type": "code",
   "execution_count": null,
   "metadata": {},
   "outputs": [],
   "source": []
  }
 ],
 "metadata": {
  "kernelspec": {
   "display_name": "Python 3",
   "language": "python",
   "name": "python3"
  },
  "language_info": {
   "codemirror_mode": {
    "name": "ipython",
    "version": 3
   },
   "file_extension": ".py",
   "mimetype": "text/x-python",
   "name": "python",
   "nbconvert_exporter": "python",
   "pygments_lexer": "ipython3",
   "version": "3.5.2"
  }
 },
 "nbformat": 4,
 "nbformat_minor": 2
}
